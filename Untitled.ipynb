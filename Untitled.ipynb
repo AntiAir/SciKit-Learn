{
 "cells": [
  {
   "cell_type": "code",
   "execution_count": 2,
   "metadata": {},
   "outputs": [
    {
     "data": {
      "image/png": "[encoded data removed]",
      "text/plain": [
       "<matplotlib.figure.Figure at 0xb02a6f0>"
      ]
     },
     "metadata": {},
     "output_type": "display_data"
    }
   ],
   "source": [
    "# -*- coding: utf-8 -*-\n",
    "##第一行一定要先加 (有關中文編碼) .\n",
    "##Alt+3 Alt+4 快速加註 減註\n",
    "#\n",
    "from sklearn import datasets\n",
    "from sklearn.linear_model import LinearRegression\n",
    "import matplotlib.pyplot as plt\n",
    "\n",
    "##loaded_data = datasets.load_boston()\n",
    "##data_X = loaded_data.data\n",
    "##data_y = loaded_data.target\n",
    "##\n",
    "##model = LinearRegression()\n",
    "##model.fit(data_X , data_y)\n",
    "##\n",
    "##print(model.predict(data_X[:4, :]))     #產生預測值\n",
    "##print(data_y[:4])                                       #實際值\n",
    "\n",
    "X, y = datasets.make_regression (n_samples = 100, n_features =1, n_targets =1, noise =1)\n",
    "plt.scatter(X,y)\n",
    "plt.show()"
   ]
  }
 ],
 "metadata": {
  "kernelspec": {
   "display_name": "Python 2",
   "language": "python",
   "name": "python2"
  },
  "language_info": {
   "codemirror_mode": {
    "name": "ipython",
    "version": 2
   },
   "file_extension": ".py",
   "mimetype": "text/x-python",
   "name": "python",
   "nbconvert_exporter": "python",
   "pygments_lexer": "ipython2",
   "version": "2.7.13"
  }
 },
 "nbformat": 4,
 "nbformat_minor": 2
}
